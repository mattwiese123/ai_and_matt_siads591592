{
 "cells": [
  {
   "cell_type": "code",
   "execution_count": 46,
   "id": "limiting-engineer",
   "metadata": {},
   "outputs": [
    {
     "name": "stdout",
     "output_type": "stream",
     "text": [
      "Layout({\n",
      "    'legend': {'tracegroupgap': 0}, 'margin': {'b': 1, 'l': 1, 'r': 1, 't': 1}, 'template': '...'\n",
      "})\n"
     ]
    }
   ],
   "source": [
    "import pandas as pd\n",
    "import streamlit as st\n",
    "import plotly_express as px\n",
    "import pprint\n",
    "\n",
    "# df = st.cache(pd.read_csv)('stonk.csv')\n",
    "df = pd.read_csv('stonk.csv')\n",
    "\n",
    "fig = px.treemap(df, path = ['sandp', 'GICS Sector', 'GICS Sub-Industry', 'Symbol'], values='CIK')\n",
    "fig.update_layout(margin=dict(t=1, b=1, r=1, l=1))\n",
    "# tiling padding\n",
    "fig.update_traces(tiling_pad=0, selector=dict(type='treemap'))\n",
    "# inside font\n",
    "fig.update_traces(textfont=dict(size=10))\n",
    "# fig.update_traces(tickfont=dict(size=10))\n",
    "#fig.update_layout(uniformtext=dict(minsize=10, mode='hide'))\n",
    "\n",
    "pp = pprint.PrettyPrinter(indent=2)\n",
    "\n",
    "pp.pprint(fig['yout'])\n",
    "# fig."
   ]
  },
  {
   "cell_type": "code",
   "execution_count": null,
   "id": "posted-plumbing",
   "metadata": {},
   "outputs": [],
   "source": []
  }
 ],
 "metadata": {
  "kernelspec": {
   "display_name": "Python 3",
   "language": "python",
   "name": "python3"
  },
  "language_info": {
   "codemirror_mode": {
    "name": "ipython",
    "version": 3
   },
   "file_extension": ".py",
   "mimetype": "text/x-python",
   "name": "python",
   "nbconvert_exporter": "python",
   "pygments_lexer": "ipython3",
   "version": "3.8.6"
  }
 },
 "nbformat": 4,
 "nbformat_minor": 5
}
