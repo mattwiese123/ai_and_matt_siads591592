{
 "cells": [
  {
   "cell_type": "code",
   "execution_count": 1,
   "metadata": {},
   "outputs": [],
   "source": [
    "import pickle\n",
    "import time"
   ]
  },
  {
   "cell_type": "code",
   "execution_count": 2,
   "metadata": {},
   "outputs": [],
   "source": [
    "results = pickle.load(open('NYTnews2020.pkl', 'rb'))"
   ]
  },
  {
   "cell_type": "code",
   "execution_count": 3,
   "metadata": {},
   "outputs": [
    {
     "data": {
      "text/plain": [
       "12"
      ]
     },
     "execution_count": 3,
     "metadata": {},
     "output_type": "execute_result"
    }
   ],
   "source": [
    "# there are 12 months of data\n",
    "len(results)"
   ]
  },
  {
   "cell_type": "code",
   "execution_count": 4,
   "metadata": {},
   "outputs": [
    {
     "name": "stdout",
     "output_type": "stream",
     "text": [
      "month 1  * 18 0.4018\n",
      "month 2  * 89 2.0991\n",
      "month 3  * 373 7.6387\n",
      "month 4  * 407 8.1092\n",
      "month 5  * 348 8.0055\n",
      "month 6  * 238 5.2983\n",
      "month 7  * 240 5.3824\n",
      "month 8  * 221 4.9786\n",
      "month 9  * 223 4.8384\n",
      "month 10  * 337 6.4105\n",
      "month 11  * 173 3.3829\n",
      "month 12  * 55 5.8078\n"
     ]
    }
   ],
   "source": [
    "for x in range(12):    \n",
    "    json_data = results[x]\n",
    "    length = len(json_data['response']['docs'])\n",
    "\n",
    "    corona = 0\n",
    "    \n",
    "    # roughly defined corona related words\n",
    "    word_list = ['corona', 'covid', 'virus', 'vaccine', 'pandemic', 'social distancing']\n",
    "\n",
    "    unrelated_abs = []\n",
    "    for i in range(length):    \n",
    "        try:\n",
    "            abstract = (json_data['response']['docs'][i]['abstract'].lower())\n",
    "            essay_type = json_data['response']['docs'][i]['subsection_name']\n",
    "            if any([x in abstract for x in word_list]):\n",
    "                corona+=1\n",
    "                #print(essay_type, '**', abstract)\n",
    "            else:\n",
    "                unrelated_abs.append(abstract)\n",
    "        except:\n",
    "            continue\n",
    "\n",
    "    print('month', x+1, ' *', corona, round(corona/length*100,4))"
   ]
  },
  {
   "cell_type": "code",
   "execution_count": null,
   "metadata": {},
   "outputs": [],
   "source": []
  },
  {
   "cell_type": "code",
   "execution_count": null,
   "metadata": {},
   "outputs": [],
   "source": []
  },
  {
   "cell_type": "code",
   "execution_count": null,
   "metadata": {},
   "outputs": [],
   "source": []
  }
 ],
 "metadata": {
  "kernelspec": {
   "display_name": "Python 3",
   "language": "python",
   "name": "python3"
  },
  "language_info": {
   "codemirror_mode": {
    "name": "ipython",
    "version": 3
   },
   "file_extension": ".py",
   "mimetype": "text/x-python",
   "name": "python",
   "nbconvert_exporter": "python",
   "pygments_lexer": "ipython3",
   "version": "3.6.7"
  }
 },
 "nbformat": 4,
 "nbformat_minor": 2
}
