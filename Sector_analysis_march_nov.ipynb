{
 "cells": [
  {
   "cell_type": "code",
   "execution_count": 1,
   "metadata": {},
   "outputs": [],
   "source": [
    "import pandas as pd\n",
    "import numpy as np\n",
    "import seaborn as sns\n",
    "import pickle"
   ]
  },
  {
   "cell_type": "markdown",
   "metadata": {},
   "source": [
    "# calculate return with close price"
   ]
  },
  {
   "cell_type": "code",
   "execution_count": 2,
   "metadata": {
    "scrolled": true
   },
   "outputs": [],
   "source": [
    "dense_returns = pd.read_csv('plotly/dense_return2020.csv', index_col=0)\n",
    "# dense_return"
   ]
  },
  {
   "cell_type": "code",
   "execution_count": 3,
   "metadata": {
    "scrolled": true
   },
   "outputs": [],
   "source": [
    "# Load company meta data for sector information\n",
    "comps = pd.read_csv('plotly/sp500.csv', index_col=0)\n",
    "comps_sub1 = comps[['Symbol', 'Company_Name', 'GICS Sector']]"
   ]
  },
  {
   "cell_type": "markdown",
   "metadata": {},
   "source": [
    "# check March to October"
   ]
  },
  {
   "cell_type": "code",
   "execution_count": 4,
   "metadata": {
    "scrolled": true
   },
   "outputs": [],
   "source": [
    "mar_oct_returns = dense_returns['2020-02-28':'2020-11-08'].sum().to_frame('mar_oct_returns').reset_index()\n",
    "mar_oct_returns = mar_oct_returns.merge(comps_sub1, how='left', left_on='index', right_on='Symbol')\n",
    "mar_oct_returns = mar_oct_returns.drop('Symbol', 1)\n",
    "mar_oct_returns.columns = ['ticker', 'return', 'company', 'sector']\n",
    "# mar_oct_returns"
   ]
  },
  {
   "cell_type": "code",
   "execution_count": 5,
   "metadata": {
    "scrolled": true
   },
   "outputs": [],
   "source": [
    "# mar_oct_returns.sort_values(by='return')"
   ]
  },
  {
   "cell_type": "code",
   "execution_count": 6,
   "metadata": {},
   "outputs": [
    {
     "data": {
      "text/plain": [
       "count    504.000000\n",
       "mean       0.198633\n",
       "std        0.264478\n",
       "min       -0.601794\n",
       "25%        0.033730\n",
       "50%        0.204329\n",
       "75%        0.361081\n",
       "max        1.337821\n",
       "Name: return, dtype: float64"
      ]
     },
     "execution_count": 6,
     "metadata": {},
     "output_type": "execute_result"
    }
   ],
   "source": [
    "mar_oct_returns['return'].describe()"
   ]
  },
  {
   "cell_type": "code",
   "execution_count": 7,
   "metadata": {},
   "outputs": [],
   "source": [
    "march_oct_bysec_mean = mar_oct_returns.groupby('sector').mean().sort_values('return')"
   ]
  },
  {
   "cell_type": "code",
   "execution_count": 8,
   "metadata": {
    "scrolled": true
   },
   "outputs": [
    {
     "data": {
      "text/html": [
       "<div>\n",
       "<style scoped>\n",
       "    .dataframe tbody tr th:only-of-type {\n",
       "        vertical-align: middle;\n",
       "    }\n",
       "\n",
       "    .dataframe tbody tr th {\n",
       "        vertical-align: top;\n",
       "    }\n",
       "\n",
       "    .dataframe thead th {\n",
       "        text-align: right;\n",
       "    }\n",
       "</style>\n",
       "<table border=\"1\" class=\"dataframe\">\n",
       "  <thead>\n",
       "    <tr style=\"text-align: right;\">\n",
       "      <th></th>\n",
       "      <th>return</th>\n",
       "    </tr>\n",
       "    <tr>\n",
       "      <th>sector</th>\n",
       "      <th></th>\n",
       "    </tr>\n",
       "  </thead>\n",
       "  <tbody>\n",
       "    <tr>\n",
       "      <th>Energy</th>\n",
       "      <td>-0.200895</td>\n",
       "    </tr>\n",
       "    <tr>\n",
       "      <th>Real Estate</th>\n",
       "      <td>-0.027940</td>\n",
       "    </tr>\n",
       "    <tr>\n",
       "      <th>Utilities</th>\n",
       "      <td>0.082139</td>\n",
       "    </tr>\n",
       "    <tr>\n",
       "      <th>Financials</th>\n",
       "      <td>0.099313</td>\n",
       "    </tr>\n",
       "    <tr>\n",
       "      <th>Consumer Staples</th>\n",
       "      <td>0.162251</td>\n",
       "    </tr>\n",
       "    <tr>\n",
       "      <th>Communication Services</th>\n",
       "      <td>0.189921</td>\n",
       "    </tr>\n",
       "    <tr>\n",
       "      <th>Industrials</th>\n",
       "      <td>0.245204</td>\n",
       "    </tr>\n",
       "    <tr>\n",
       "      <th>Health Care</th>\n",
       "      <td>0.285886</td>\n",
       "    </tr>\n",
       "    <tr>\n",
       "      <th>Consumer Discretionary</th>\n",
       "      <td>0.301917</td>\n",
       "    </tr>\n",
       "    <tr>\n",
       "      <th>Information Technology</th>\n",
       "      <td>0.314610</td>\n",
       "    </tr>\n",
       "    <tr>\n",
       "      <th>Materials</th>\n",
       "      <td>0.354210</td>\n",
       "    </tr>\n",
       "  </tbody>\n",
       "</table>\n",
       "</div>"
      ],
      "text/plain": [
       "                          return\n",
       "sector                          \n",
       "Energy                 -0.200895\n",
       "Real Estate            -0.027940\n",
       "Utilities               0.082139\n",
       "Financials              0.099313\n",
       "Consumer Staples        0.162251\n",
       "Communication Services  0.189921\n",
       "Industrials             0.245204\n",
       "Health Care             0.285886\n",
       "Consumer Discretionary  0.301917\n",
       "Information Technology  0.314610\n",
       "Materials               0.354210"
      ]
     },
     "execution_count": 8,
     "metadata": {},
     "output_type": "execute_result"
    }
   ],
   "source": [
    "march_oct_bysec_mean"
   ]
  },
  {
   "cell_type": "markdown",
   "metadata": {},
   "source": [
    "# On nov. 9th vaccine news released"
   ]
  },
  {
   "cell_type": "code",
   "execution_count": 9,
   "metadata": {},
   "outputs": [],
   "source": [
    "nov9_ret = dense_returns[dense_returns.index=='2020-11-09'].T\n",
    "nov9_ret = nov9_ret.sort_values('2020-11-09')\n",
    "nov9_ret = nov9_ret.reset_index()"
   ]
  },
  {
   "cell_type": "code",
   "execution_count": 10,
   "metadata": {},
   "outputs": [],
   "source": [
    "nov9_ret = nov9_ret.merge(comps_sub1, how='left', left_on='index', right_on='Symbol')\n",
    "nov9_ret = nov9_ret.drop('Symbol', 1)\n",
    "nov9_ret.columns = ['ticker', 'return', 'company', 'sector']"
   ]
  },
  {
   "cell_type": "code",
   "execution_count": 11,
   "metadata": {},
   "outputs": [],
   "source": [
    "nov_sector_mean = nov9_ret.groupby('sector').mean().sort_values('return')"
   ]
  },
  {
   "cell_type": "code",
   "execution_count": 12,
   "metadata": {
    "scrolled": true
   },
   "outputs": [
    {
     "data": {
      "text/html": [
       "<div>\n",
       "<style scoped>\n",
       "    .dataframe tbody tr th:only-of-type {\n",
       "        vertical-align: middle;\n",
       "    }\n",
       "\n",
       "    .dataframe tbody tr th {\n",
       "        vertical-align: top;\n",
       "    }\n",
       "\n",
       "    .dataframe thead th {\n",
       "        text-align: right;\n",
       "    }\n",
       "</style>\n",
       "<table border=\"1\" class=\"dataframe\">\n",
       "  <thead>\n",
       "    <tr style=\"text-align: right;\">\n",
       "      <th></th>\n",
       "      <th>ticker</th>\n",
       "      <th>return</th>\n",
       "      <th>company</th>\n",
       "      <th>sector</th>\n",
       "    </tr>\n",
       "  </thead>\n",
       "  <tbody>\n",
       "    <tr>\n",
       "      <th>0</th>\n",
       "      <td>BIIB</td>\n",
       "      <td>-0.281666</td>\n",
       "      <td>Biogen Inc.</td>\n",
       "      <td>Health Care</td>\n",
       "    </tr>\n",
       "    <tr>\n",
       "      <th>1</th>\n",
       "      <td>ETSY</td>\n",
       "      <td>-0.171452</td>\n",
       "      <td>Etsy</td>\n",
       "      <td>Consumer Discretionary</td>\n",
       "    </tr>\n",
       "    <tr>\n",
       "      <th>2</th>\n",
       "      <td>POOL</td>\n",
       "      <td>-0.158244</td>\n",
       "      <td>Pool Corporation</td>\n",
       "      <td>Consumer Discretionary</td>\n",
       "    </tr>\n",
       "    <tr>\n",
       "      <th>3</th>\n",
       "      <td>CLX</td>\n",
       "      <td>-0.106245</td>\n",
       "      <td>The Clorox Company</td>\n",
       "      <td>Consumer Staples</td>\n",
       "    </tr>\n",
       "    <tr>\n",
       "      <th>4</th>\n",
       "      <td>WHR</td>\n",
       "      <td>-0.103898</td>\n",
       "      <td>Whirlpool Corp.</td>\n",
       "      <td>Consumer Discretionary</td>\n",
       "    </tr>\n",
       "    <tr>\n",
       "      <th>5</th>\n",
       "      <td>BIO</td>\n",
       "      <td>-0.098671</td>\n",
       "      <td>Bio-Rad Laboratories</td>\n",
       "      <td>Health Care</td>\n",
       "    </tr>\n",
       "    <tr>\n",
       "      <th>6</th>\n",
       "      <td>BBY</td>\n",
       "      <td>-0.098001</td>\n",
       "      <td>Best Buy Co. Inc.</td>\n",
       "      <td>Consumer Discretionary</td>\n",
       "    </tr>\n",
       "    <tr>\n",
       "      <th>7</th>\n",
       "      <td>ROL</td>\n",
       "      <td>-0.095155</td>\n",
       "      <td>Rollins Inc.</td>\n",
       "      <td>Industrials</td>\n",
       "    </tr>\n",
       "    <tr>\n",
       "      <th>8</th>\n",
       "      <td>PKI</td>\n",
       "      <td>-0.093489</td>\n",
       "      <td>PerkinElmer</td>\n",
       "      <td>Health Care</td>\n",
       "    </tr>\n",
       "    <tr>\n",
       "      <th>9</th>\n",
       "      <td>FBHS</td>\n",
       "      <td>-0.091672</td>\n",
       "      <td>Fortune Brands Home &amp; Security</td>\n",
       "      <td>Industrials</td>\n",
       "    </tr>\n",
       "    <tr>\n",
       "      <th>10</th>\n",
       "      <td>LOW</td>\n",
       "      <td>-0.089426</td>\n",
       "      <td>Lowe's Cos.</td>\n",
       "      <td>Consumer Discretionary</td>\n",
       "    </tr>\n",
       "    <tr>\n",
       "      <th>11</th>\n",
       "      <td>HOLX</td>\n",
       "      <td>-0.089274</td>\n",
       "      <td>Hologic</td>\n",
       "      <td>Health Care</td>\n",
       "    </tr>\n",
       "    <tr>\n",
       "      <th>12</th>\n",
       "      <td>PYPL</td>\n",
       "      <td>-0.088837</td>\n",
       "      <td>PayPal</td>\n",
       "      <td>Information Technology</td>\n",
       "    </tr>\n",
       "    <tr>\n",
       "      <th>13</th>\n",
       "      <td>IDXX</td>\n",
       "      <td>-0.087116</td>\n",
       "      <td>IDEXX Laboratories</td>\n",
       "      <td>Health Care</td>\n",
       "    </tr>\n",
       "    <tr>\n",
       "      <th>14</th>\n",
       "      <td>TTWO</td>\n",
       "      <td>-0.086763</td>\n",
       "      <td>Take-Two Interactive</td>\n",
       "      <td>Communication Services</td>\n",
       "    </tr>\n",
       "    <tr>\n",
       "      <th>15</th>\n",
       "      <td>NFLX</td>\n",
       "      <td>-0.085929</td>\n",
       "      <td>Netflix Inc.</td>\n",
       "      <td>Communication Services</td>\n",
       "    </tr>\n",
       "    <tr>\n",
       "      <th>16</th>\n",
       "      <td>TMO</td>\n",
       "      <td>-0.080866</td>\n",
       "      <td>Thermo Fisher Scientific</td>\n",
       "      <td>Health Care</td>\n",
       "    </tr>\n",
       "    <tr>\n",
       "      <th>17</th>\n",
       "      <td>DHI</td>\n",
       "      <td>-0.080159</td>\n",
       "      <td>D. R. Horton</td>\n",
       "      <td>Consumer Discretionary</td>\n",
       "    </tr>\n",
       "    <tr>\n",
       "      <th>18</th>\n",
       "      <td>PHM</td>\n",
       "      <td>-0.078667</td>\n",
       "      <td>PulteGroup</td>\n",
       "      <td>Consumer Discretionary</td>\n",
       "    </tr>\n",
       "    <tr>\n",
       "      <th>19</th>\n",
       "      <td>TSCO</td>\n",
       "      <td>-0.077252</td>\n",
       "      <td>Tractor Supply Company</td>\n",
       "      <td>Consumer Discretionary</td>\n",
       "    </tr>\n",
       "  </tbody>\n",
       "</table>\n",
       "</div>"
      ],
      "text/plain": [
       "   ticker    return                         company                  sector\n",
       "0    BIIB -0.281666                     Biogen Inc.             Health Care\n",
       "1    ETSY -0.171452                            Etsy  Consumer Discretionary\n",
       "2    POOL -0.158244                Pool Corporation  Consumer Discretionary\n",
       "3     CLX -0.106245              The Clorox Company        Consumer Staples\n",
       "4     WHR -0.103898                 Whirlpool Corp.  Consumer Discretionary\n",
       "5     BIO -0.098671            Bio-Rad Laboratories             Health Care\n",
       "6     BBY -0.098001               Best Buy Co. Inc.  Consumer Discretionary\n",
       "7     ROL -0.095155                    Rollins Inc.             Industrials\n",
       "8     PKI -0.093489                     PerkinElmer             Health Care\n",
       "9    FBHS -0.091672  Fortune Brands Home & Security             Industrials\n",
       "10    LOW -0.089426                     Lowe's Cos.  Consumer Discretionary\n",
       "11   HOLX -0.089274                         Hologic             Health Care\n",
       "12   PYPL -0.088837                          PayPal  Information Technology\n",
       "13   IDXX -0.087116              IDEXX Laboratories             Health Care\n",
       "14   TTWO -0.086763            Take-Two Interactive  Communication Services\n",
       "15   NFLX -0.085929                    Netflix Inc.  Communication Services\n",
       "16    TMO -0.080866        Thermo Fisher Scientific             Health Care\n",
       "17    DHI -0.080159                    D. R. Horton  Consumer Discretionary\n",
       "18    PHM -0.078667                      PulteGroup  Consumer Discretionary\n",
       "19   TSCO -0.077252          Tractor Supply Company  Consumer Discretionary"
      ]
     },
     "execution_count": 12,
     "metadata": {},
     "output_type": "execute_result"
    }
   ],
   "source": [
    "nov9_ret.iloc[:20]"
   ]
  },
  {
   "cell_type": "code",
   "execution_count": 13,
   "metadata": {},
   "outputs": [],
   "source": [
    "sec_performance = pd.concat([march_oct_bysec_mean, nov_sector_mean], axis=1)\n",
    "sec_performance.columns = ['march_mean_ret', 'nov_mean_ret']"
   ]
  },
  {
   "cell_type": "code",
   "execution_count": 14,
   "metadata": {
    "scrolled": true
   },
   "outputs": [
    {
     "data": {
      "text/html": [
       "<div>\n",
       "<style scoped>\n",
       "    .dataframe tbody tr th:only-of-type {\n",
       "        vertical-align: middle;\n",
       "    }\n",
       "\n",
       "    .dataframe tbody tr th {\n",
       "        vertical-align: top;\n",
       "    }\n",
       "\n",
       "    .dataframe thead th {\n",
       "        text-align: right;\n",
       "    }\n",
       "</style>\n",
       "<table border=\"1\" class=\"dataframe\">\n",
       "  <thead>\n",
       "    <tr style=\"text-align: right;\">\n",
       "      <th></th>\n",
       "      <th>march_mean_ret</th>\n",
       "      <th>nov_mean_ret</th>\n",
       "    </tr>\n",
       "  </thead>\n",
       "  <tbody>\n",
       "    <tr>\n",
       "      <th>Consumer Staples</th>\n",
       "      <td>16.225147</td>\n",
       "      <td>0.223341</td>\n",
       "    </tr>\n",
       "    <tr>\n",
       "      <th>Health Care</th>\n",
       "      <td>28.588564</td>\n",
       "      <td>0.926409</td>\n",
       "    </tr>\n",
       "    <tr>\n",
       "      <th>Information Technology</th>\n",
       "      <td>31.461007</td>\n",
       "      <td>1.549395</td>\n",
       "    </tr>\n",
       "    <tr>\n",
       "      <th>Communication Services</th>\n",
       "      <td>18.992110</td>\n",
       "      <td>2.149829</td>\n",
       "    </tr>\n",
       "    <tr>\n",
       "      <th>Utilities</th>\n",
       "      <td>8.213921</td>\n",
       "      <td>2.645372</td>\n",
       "    </tr>\n",
       "    <tr>\n",
       "      <th>Materials</th>\n",
       "      <td>35.421027</td>\n",
       "      <td>2.897302</td>\n",
       "    </tr>\n",
       "    <tr>\n",
       "      <th>Industrials</th>\n",
       "      <td>24.520448</td>\n",
       "      <td>4.040178</td>\n",
       "    </tr>\n",
       "    <tr>\n",
       "      <th>Consumer Discretionary</th>\n",
       "      <td>30.191666</td>\n",
       "      <td>4.213028</td>\n",
       "    </tr>\n",
       "    <tr>\n",
       "      <th>Financials</th>\n",
       "      <td>9.931326</td>\n",
       "      <td>9.353723</td>\n",
       "    </tr>\n",
       "    <tr>\n",
       "      <th>Real Estate</th>\n",
       "      <td>-2.793977</td>\n",
       "      <td>10.614603</td>\n",
       "    </tr>\n",
       "    <tr>\n",
       "      <th>Energy</th>\n",
       "      <td>-20.089544</td>\n",
       "      <td>17.610911</td>\n",
       "    </tr>\n",
       "  </tbody>\n",
       "</table>\n",
       "</div>"
      ],
      "text/plain": [
       "                        march_mean_ret  nov_mean_ret\n",
       "Consumer Staples             16.225147      0.223341\n",
       "Health Care                  28.588564      0.926409\n",
       "Information Technology       31.461007      1.549395\n",
       "Communication Services       18.992110      2.149829\n",
       "Utilities                     8.213921      2.645372\n",
       "Materials                    35.421027      2.897302\n",
       "Industrials                  24.520448      4.040178\n",
       "Consumer Discretionary       30.191666      4.213028\n",
       "Financials                    9.931326      9.353723\n",
       "Real Estate                  -2.793977     10.614603\n",
       "Energy                      -20.089544     17.610911"
      ]
     },
     "execution_count": 14,
     "metadata": {},
     "output_type": "execute_result"
    }
   ],
   "source": [
    "sec_performance.sort_values(by='nov_mean_ret')*100"
   ]
  },
  {
   "cell_type": "code",
   "execution_count": 15,
   "metadata": {},
   "outputs": [
    {
     "data": {
      "text/html": [
       "<div>\n",
       "<style scoped>\n",
       "    .dataframe tbody tr th:only-of-type {\n",
       "        vertical-align: middle;\n",
       "    }\n",
       "\n",
       "    .dataframe tbody tr th {\n",
       "        vertical-align: top;\n",
       "    }\n",
       "\n",
       "    .dataframe thead th {\n",
       "        text-align: right;\n",
       "    }\n",
       "</style>\n",
       "<table border=\"1\" class=\"dataframe\">\n",
       "  <thead>\n",
       "    <tr style=\"text-align: right;\">\n",
       "      <th></th>\n",
       "      <th>march_mean_ret</th>\n",
       "      <th>nov_mean_ret</th>\n",
       "    </tr>\n",
       "  </thead>\n",
       "  <tbody>\n",
       "    <tr>\n",
       "      <th>march_mean_ret</th>\n",
       "      <td>1.000000</td>\n",
       "      <td>-0.472727</td>\n",
       "    </tr>\n",
       "    <tr>\n",
       "      <th>nov_mean_ret</th>\n",
       "      <td>-0.472727</td>\n",
       "      <td>1.000000</td>\n",
       "    </tr>\n",
       "  </tbody>\n",
       "</table>\n",
       "</div>"
      ],
      "text/plain": [
       "                march_mean_ret  nov_mean_ret\n",
       "march_mean_ret        1.000000     -0.472727\n",
       "nov_mean_ret         -0.472727      1.000000"
      ]
     },
     "execution_count": 15,
     "metadata": {},
     "output_type": "execute_result"
    }
   ],
   "source": [
    "sec_performance.corr(method='spearman')"
   ]
  },
  {
   "cell_type": "markdown",
   "metadata": {},
   "source": [
    "## There is a large rebound in sector performance when vaccine released. Especially for Energy, Financials, and Real Estate."
   ]
  },
  {
   "cell_type": "code",
   "execution_count": null,
   "metadata": {},
   "outputs": [],
   "source": []
  },
  {
   "cell_type": "code",
   "execution_count": null,
   "metadata": {},
   "outputs": [],
   "source": []
  },
  {
   "cell_type": "code",
   "execution_count": null,
   "metadata": {},
   "outputs": [],
   "source": []
  }
 ],
 "metadata": {
  "kernelspec": {
   "display_name": "Python 3",
   "language": "python",
   "name": "python3"
  },
  "language_info": {
   "codemirror_mode": {
    "name": "ipython",
    "version": 3
   },
   "file_extension": ".py",
   "mimetype": "text/x-python",
   "name": "python",
   "nbconvert_exporter": "python",
   "pygments_lexer": "ipython3",
   "version": "3.6.7"
  }
 },
 "nbformat": 4,
 "nbformat_minor": 2
}
